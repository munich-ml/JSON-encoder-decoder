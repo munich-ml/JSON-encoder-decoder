{
  "nbformat": 4,
  "nbformat_minor": 0,
  "metadata": {
    "colab": {
      "name": "JSON_datatypes.ipynb",
      "provenance": [],
      "authorship_tag": "ABX9TyOSbuCYtug0HigougeQ5VCN",
      "include_colab_link": true
    },
    "kernelspec": {
      "name": "python3",
      "display_name": "Python 3"
    }
  },
  "cells": [
    {
      "cell_type": "markdown",
      "metadata": {
        "id": "view-in-github",
        "colab_type": "text"
      },
      "source": [
        "<a href=\"https://colab.research.google.com/github/munich-ml/file_IO/blob/master/JSON_datatypes.ipynb\" target=\"_parent\"><img src=\"https://colab.research.google.com/assets/colab-badge.svg\" alt=\"Open In Colab\"/></a>"
      ]
    },
    {
      "cell_type": "markdown",
      "metadata": {
        "id": "rz9dSwYd7cuG",
        "colab_type": "text"
      },
      "source": [
        "# Motivation"
      ]
    },
    {
      "cell_type": "markdown",
      "metadata": {
        "id": "eVqqDTVm7hTL",
        "colab_type": "text"
      },
      "source": [
        "# Implementation"
      ]
    },
    {
      "cell_type": "code",
      "metadata": {
        "id": "zAi1AybO24Sd",
        "colab_type": "code",
        "colab": {}
      },
      "source": [
        "import numpy as np\n",
        "import pandas as pd\n",
        "import datetime as dt\n",
        "import json"
      ],
      "execution_count": 31,
      "outputs": []
    },
    {
      "cell_type": "code",
      "metadata": {
        "id": "sD14E6un3VKt",
        "colab_type": "code",
        "colab": {}
      },
      "source": [
        "class JsonEnc(json.JSONEncoder):\n",
        "    \"\"\"\n",
        "    Extends the standard JSONEncoder to support additional datatypes.\n",
        "    \n",
        "    Keywords strings as dict keys are used to identify instances of the \n",
        "    additional types.\n",
        "    \n",
        "    Additional datatype  | keyword\n",
        "    ---------------------|------------\n",
        "    pandas DataFrame     | @DataFrame\n",
        "    pandas Series        | @Series\n",
        "    numpy array          | @np.array\n",
        "    datetime.datetime    | @datetime\n",
        "    datetime.timedelta   | @timedelta\n",
        "    \n",
        "    Of course, the regular JSON datatypes are supported, too:\n",
        "        int, float, str, bool, None, list, (tuple), dict\n",
        "        \n",
        "    Example usage:\n",
        "        # Encode data object to json_str\n",
        "        json_str = json.dumps(data, cls=JsonEnc)\n",
        "        \n",
        "        # Decode json_str to a data object\n",
        "        data_copy = json.loads(json_str, cls=JsonDec)\n",
        "        \n",
        "    \"\"\"\n",
        "    def default(self, obj):\n",
        "        if isinstance(obj, pd.DataFrame):\n",
        "            return {\"@DataFrame\": {\"columns\": list(obj.columns),\n",
        "                                   \"index\": list(obj.index),\n",
        "                                   \"data\": obj.values.tolist()}}\n",
        "        \n",
        "        if isinstance(obj, pd.Series):\n",
        "            return {\"@Series\": {\"name\": obj.name,\n",
        "                                \"index\": list(obj.index),\n",
        "                                \"data\": obj.values.tolist()}}\n",
        "        \n",
        "        if isinstance(obj, np.ndarray):\n",
        "            return {\"@np.array\": obj.tolist()}\n",
        "        \n",
        "        if isinstance(obj, dt.datetime):\n",
        "            return {\"@datetime\": obj.strftime('%Y-%m-%d %H:%M:%S.%f')}\n",
        "\n",
        "        if isinstance(obj, dt.timedelta):\n",
        "            return {\"@timedelta\": obj.total_seconds()}\n",
        "\n",
        "        return json.JSONEncoder.default(self, obj)"
      ],
      "execution_count": 3,
      "outputs": []
    },
    {
      "cell_type": "code",
      "metadata": {
        "id": "B4oUGvNA3UrE",
        "colab_type": "code",
        "colab": {}
      },
      "source": [
        "class JsonDec(json.JSONDecoder):\n",
        "    \"\"\"\n",
        "    Extends the standard JSONDecoder to support additional datatypes.\n",
        "    \n",
        "    Additional types are recognized by dict key keywords, which are injected \n",
        "    by the JsonEnc.\n",
        "    \n",
        "    Additional datatype  | keyword\n",
        "    ---------------------|------------\n",
        "    pandas DataFrame     | @DataFrame\n",
        "    pandas Series        | @Series\n",
        "    numpy array          | @np.array\n",
        "    datetime.datetime    | @datetime\n",
        "    datetime.timedelta   | @timedelta\n",
        "    \n",
        "    Of course, the regular JSON datatypes are supported, too:\n",
        "        int, float, str, bool, None, list, (tuple), dict\n",
        "        \n",
        "    Example usage:\n",
        "        # Encode data object to json_str\n",
        "        json_str = json.dumps(data, cls=JsonEnc)\n",
        "        \n",
        "        # Decode json_str to a data object\n",
        "        data_copy = json.loads(json_str, cls=JsonDec)\n",
        "        \n",
        "    \"\"\"\n",
        "    def __init__(self, *args, **kwargs):\n",
        "        super().__init__(object_hook=JsonDec.custom_hook, *args, **kwargs)\n",
        "    \n",
        "    @staticmethod\n",
        "    def custom_hook(dct):\n",
        "        if len(dct) == 1:  # add. datatypes are coded in dict of len=1\n",
        "            if \"@np.array\" in dct:\n",
        "                return np.array(dct[\"@np.array\"])\n",
        "            \n",
        "            if \"@DataFrame\" in dct:\n",
        "                return pd.DataFrame(data=dct[\"@DataFrame\"][\"data\"],\n",
        "                                    columns=dct[\"@DataFrame\"][\"columns\"],\n",
        "                                    index=dct[\"@DataFrame\"][\"index\"])\n",
        "            \n",
        "            if \"@Series\" in dct:\n",
        "                return pd.Series(data=dct[\"@Series\"][\"data\"],\n",
        "                                 name=dct[\"@Series\"][\"name\"],\n",
        "                                 index=dct[\"@Series\"][\"index\"])\n",
        "            \n",
        "            if \"@datetime\" in dct:\n",
        "                return dt.datetime.strptime(dct[\"@datetime\"],\n",
        "                                            '%Y-%m-%d %H:%M:%S.%f')\n",
        "            \n",
        "            if \"@timedelta\" in dct:\n",
        "                return dt.timedelta(seconds=dct[\"@timedelta\"])\n",
        "            \n",
        "        return dct"
      ],
      "execution_count": 4,
      "outputs": []
    },
    {
      "cell_type": "markdown",
      "metadata": {
        "id": "jdrRaVcZ7lFg",
        "colab_type": "text"
      },
      "source": [
        "# Verification"
      ]
    },
    {
      "cell_type": "markdown",
      "metadata": {
        "id": "7pwohEwy84v-",
        "colab_type": "text"
      },
      "source": [
        "### Create test data"
      ]
    },
    {
      "cell_type": "markdown",
      "metadata": {
        "id": "FXQDgRkE7uat",
        "colab_type": "text"
      },
      "source": [
        "Firstly, we wirte a function `create_example_container` that returns a test dictionary containing all additional datatypes supported by the custom JSON encoder/decoder."
      ]
    },
    {
      "cell_type": "code",
      "metadata": {
        "id": "9zFbCFVx3UmX",
        "colab_type": "code",
        "colab": {
          "base_uri": "https://localhost:8080/",
          "height": 326
        },
        "outputId": "3e372c79-7f0d-42ed-bc28-1304b7cbbcc3"
      },
      "source": [
        "def create_example_container():    \n",
        "    \"\"\"\n",
        "    Returns an example container as dict with all supported additional\n",
        "    datatypes.\n",
        "    \"\"\"\n",
        "    nCols, nRows = 3, 4\n",
        "    df1 = pd.DataFrame(np.random.randint(0, high=10, size=(nRows, nCols)),\n",
        "                        columns=[\"col\"+str(i) for i in range(nCols)],\n",
        "                        index=[\"idx\"+str(i) for i in range(nRows)])\n",
        "    \n",
        "    df2 = pd.DataFrame({\"dates\": [dt.datetime(2020, 6, 18), \n",
        "                                  dt.datetime(2020, 6, 22, 1, 2, 3)],\n",
        "                        \"values\": [42, True]})\n",
        "    df2[\"timedeltas\"] = dt.datetime.now() - df2[\"dates\"]\n",
        "    \n",
        "    return {\"regular_json\": [\"string\", 1, 2.33, None, False],\n",
        "            \"some_datetime\": dt.datetime.now(),\n",
        "            \"some_timedelta\": dt.timedelta(days=1, seconds=100),\n",
        "            \"some_np_array\": np.eye(3),\n",
        "            \"some_DateFrame\": df1,\n",
        "            \"DataFrame_with_dt\": df2,\n",
        "            \"some_Series\": df2[\"values\"]}\n",
        "\n",
        "# Example usage\n",
        "# 1. create an example dict with all additional datatypes\n",
        "data = create_example_container()\n",
        "data"
      ],
      "execution_count": 32,
      "outputs": [
        {
          "output_type": "execute_result",
          "data": {
            "text/plain": [
              "{'DataFrame_with_dt':                 dates values               timedeltas\n",
              " 0 2020-06-18 00:00:00     42   0 days 15:05:16.231744\n",
              " 1 2020-06-22 01:02:03   True -4 days +14:03:13.231744,\n",
              " 'regular_json': ['string', 1, 2.33, None, False],\n",
              " 'some_DateFrame':       col0  col1  col2\n",
              " idx0     6     6     5\n",
              " idx1     6     6     8\n",
              " idx2     8     8     0\n",
              " idx3     1     6     9,\n",
              " 'some_Series': 0      42\n",
              " 1    True\n",
              " Name: values, dtype: object,\n",
              " 'some_datetime': datetime.datetime(2020, 6, 18, 15, 5, 16, 233703),\n",
              " 'some_np_array': array([[1., 0., 0.],\n",
              "        [0., 1., 0.],\n",
              "        [0., 0., 1.]]),\n",
              " 'some_timedelta': datetime.timedelta(1, 100)}"
            ]
          },
          "metadata": {
            "tags": []
          },
          "execution_count": 32
        }
      ]
    },
    {
      "cell_type": "markdown",
      "metadata": {
        "id": "8hXfM4HF8_oN",
        "colab_type": "text"
      },
      "source": [
        "### Save JSON file"
      ]
    },
    {
      "cell_type": "markdown",
      "metadata": {
        "id": "xlAi7vFp9p0q",
        "colab_type": "text"
      },
      "source": [
        "For saving the `data` object to file, we can use the regular `json.dump` / `json.dumps` methods. \n",
        "\n",
        "The **custom encoder `JsonEnc`** is handed over to the `cls` keyword argument. The docstring says:\n",
        "\n",
        "> *To use a custom ``JSONEncoder`` subclass (e.g. one that overrides the ``.default()`` method to serialize additional types), specify it with the ``cls`` kwarg; otherwise ``JSONEncoder`` is used.*\n"
      ]
    },
    {
      "cell_type": "code",
      "metadata": {
        "id": "Sh6mQrMf8fMu",
        "colab_type": "code",
        "colab": {}
      },
      "source": [
        "with open(\"data.json\", \"w\") as f:\n",
        "    json.dump(data, f, cls=JsonEnc)"
      ],
      "execution_count": 35,
      "outputs": []
    },
    {
      "cell_type": "markdown",
      "metadata": {
        "id": "XY0B4sP0_dvA",
        "colab_type": "text"
      },
      "source": [
        "Let's double-check how the actual JSON string looks like, using `json.dumps`.\n",
        "\n",
        "For the sake of pretty-printing I use `indent=4`, which I don't recommend when dumping to files. The file size would be significantly larger (up to factor 10 for large integer tables) compared to the *on-liner-JSON* from `indent=None`."
      ]
    },
    {
      "cell_type": "code",
      "metadata": {
        "id": "IcuWij2i3Qpp",
        "colab_type": "code",
        "colab": {
          "base_uri": "https://localhost:8080/",
          "height": 1000
        },
        "outputId": "9579c64f-6566-4873-8732-913c1a869208"
      },
      "source": [
        "print(json.dumps(data, cls=JsonEnc, indent=4))"
      ],
      "execution_count": 36,
      "outputs": [
        {
          "output_type": "stream",
          "text": [
            "{\n",
            "    \"regular_json\": [\n",
            "        \"string\",\n",
            "        1,\n",
            "        2.33,\n",
            "        null,\n",
            "        false\n",
            "    ],\n",
            "    \"some_datetime\": {\n",
            "        \"@datetime\": \"2020-06-18 15:05:16.233703\"\n",
            "    },\n",
            "    \"some_timedelta\": {\n",
            "        \"@timedelta\": 86500.0\n",
            "    },\n",
            "    \"some_np_array\": {\n",
            "        \"@np.array\": [\n",
            "            [\n",
            "                1.0,\n",
            "                0.0,\n",
            "                0.0\n",
            "            ],\n",
            "            [\n",
            "                0.0,\n",
            "                1.0,\n",
            "                0.0\n",
            "            ],\n",
            "            [\n",
            "                0.0,\n",
            "                0.0,\n",
            "                1.0\n",
            "            ]\n",
            "        ]\n",
            "    },\n",
            "    \"some_DateFrame\": {\n",
            "        \"@DataFrame\": {\n",
            "            \"columns\": [\n",
            "                \"col0\",\n",
            "                \"col1\",\n",
            "                \"col2\"\n",
            "            ],\n",
            "            \"index\": [\n",
            "                \"idx0\",\n",
            "                \"idx1\",\n",
            "                \"idx2\",\n",
            "                \"idx3\"\n",
            "            ],\n",
            "            \"data\": [\n",
            "                [\n",
            "                    6,\n",
            "                    6,\n",
            "                    5\n",
            "                ],\n",
            "                [\n",
            "                    6,\n",
            "                    6,\n",
            "                    8\n",
            "                ],\n",
            "                [\n",
            "                    8,\n",
            "                    8,\n",
            "                    0\n",
            "                ],\n",
            "                [\n",
            "                    1,\n",
            "                    6,\n",
            "                    9\n",
            "                ]\n",
            "            ]\n",
            "        }\n",
            "    },\n",
            "    \"DataFrame_with_dt\": {\n",
            "        \"@DataFrame\": {\n",
            "            \"columns\": [\n",
            "                \"dates\",\n",
            "                \"values\",\n",
            "                \"timedeltas\"\n",
            "            ],\n",
            "            \"index\": [\n",
            "                0,\n",
            "                1\n",
            "            ],\n",
            "            \"data\": [\n",
            "                [\n",
            "                    {\n",
            "                        \"@datetime\": \"2020-06-18 00:00:00.000000\"\n",
            "                    },\n",
            "                    42,\n",
            "                    {\n",
            "                        \"@timedelta\": 54316.231744\n",
            "                    }\n",
            "                ],\n",
            "                [\n",
            "                    {\n",
            "                        \"@datetime\": \"2020-06-22 01:02:03.000000\"\n",
            "                    },\n",
            "                    true,\n",
            "                    {\n",
            "                        \"@timedelta\": -295006.768256\n",
            "                    }\n",
            "                ]\n",
            "            ]\n",
            "        }\n",
            "    },\n",
            "    \"some_Series\": {\n",
            "        \"@Series\": {\n",
            "            \"name\": \"values\",\n",
            "            \"index\": [\n",
            "                0,\n",
            "                1\n",
            "            ],\n",
            "            \"data\": [\n",
            "                42,\n",
            "                true\n",
            "            ]\n",
            "        }\n",
            "    }\n",
            "}\n"
          ],
          "name": "stdout"
        }
      ]
    },
    {
      "cell_type": "markdown",
      "metadata": {
        "id": "U4leYFAeAwbJ",
        "colab_type": "text"
      },
      "source": [
        "One can see the custom dict keys (e.g. `@Series`, `@DataFrame`)"
      ]
    },
    {
      "cell_type": "markdown",
      "metadata": {
        "id": "VHGJYRmw9JA8",
        "colab_type": "text"
      },
      "source": [
        "### Load JSON file"
      ]
    },
    {
      "cell_type": "code",
      "metadata": {
        "id": "phXoIYZ98U6U",
        "colab_type": "code",
        "colab": {}
      },
      "source": [
        "# 3. Read json file and decode using the custpm JsonDec\n",
        "with open(\"data.json\", \"r\") as f:\n",
        "    data_copy = json.load(f, cls=JsonDec)"
      ],
      "execution_count": null,
      "outputs": []
    },
    {
      "cell_type": "markdown",
      "metadata": {
        "id": "cNaImK4j9NtK",
        "colab_type": "text"
      },
      "source": [
        "### Compare the 2 data containers"
      ]
    },
    {
      "cell_type": "code",
      "metadata": {
        "id": "aSUtqq7t5ZVF",
        "colab_type": "code",
        "colab": {
          "base_uri": "https://localhost:8080/",
          "height": 326
        },
        "outputId": "7a0b339c-8d6c-4a49-9f5c-dde989502e3e"
      },
      "source": [
        "data"
      ],
      "execution_count": 25,
      "outputs": [
        {
          "output_type": "execute_result",
          "data": {
            "text/plain": [
              "{'DataFrame_with_dt':                 dates values               timedeltas\n",
              " 0 2020-06-18 00:00:00     42   0 days 14:49:14.301799\n",
              " 1 2020-06-22 01:02:03   True -4 days +13:47:11.301799,\n",
              " 'regular_json': ['string', 1, 2.33, None, False],\n",
              " 'some_DateFrame':       col0  col1  col2\n",
              " idx0     2     1     2\n",
              " idx1     0     8     5\n",
              " idx2     6     3     5\n",
              " idx3     9     0     8,\n",
              " 'some_Series': 0      42\n",
              " 1    True\n",
              " Name: values, dtype: object,\n",
              " 'some_datetime': datetime.datetime(2020, 6, 18, 14, 49, 14, 303031),\n",
              " 'some_np_array': array([[1., 0., 0.],\n",
              "        [0., 1., 0.],\n",
              "        [0., 0., 1.]]),\n",
              " 'some_timedelta': datetime.timedelta(1, 100)}"
            ]
          },
          "metadata": {
            "tags": []
          },
          "execution_count": 25
        }
      ]
    },
    {
      "cell_type": "code",
      "metadata": {
        "id": "u2ORLXr_5Z70",
        "colab_type": "code",
        "colab": {
          "base_uri": "https://localhost:8080/",
          "height": 326
        },
        "outputId": "c70b4d22-6df0-4687-a41e-85e868d2b65e"
      },
      "source": [
        "data_copy"
      ],
      "execution_count": 26,
      "outputs": [
        {
          "output_type": "execute_result",
          "data": {
            "text/plain": [
              "{'DataFrame_with_dt':                 dates values               timedeltas\n",
              " 0 2020-06-18 00:00:00     42   0 days 14:49:14.301799\n",
              " 1 2020-06-22 01:02:03   True -4 days +13:47:11.301799,\n",
              " 'regular_json': ['string', 1, 2.33, None, False],\n",
              " 'some_DateFrame':       col0  col1  col2\n",
              " idx0     2     1     2\n",
              " idx1     0     8     5\n",
              " idx2     6     3     5\n",
              " idx3     9     0     8,\n",
              " 'some_Series': 0      42\n",
              " 1    True\n",
              " Name: values, dtype: object,\n",
              " 'some_datetime': datetime.datetime(2020, 6, 18, 14, 49, 14, 303031),\n",
              " 'some_np_array': array([[1., 0., 0.],\n",
              "        [0., 1., 0.],\n",
              "        [0., 0., 1.]]),\n",
              " 'some_timedelta': datetime.timedelta(1, 100)}"
            ]
          },
          "metadata": {
            "tags": []
          },
          "execution_count": 26
        }
      ]
    },
    {
      "cell_type": "markdown",
      "metadata": {
        "id": "h3Q80L3E6_aC",
        "colab_type": "text"
      },
      "source": [
        "Although the printout of those `data` and `data_copy` dictionaries isn't pretty, one can see that both are identical."
      ]
    },
    {
      "cell_type": "markdown",
      "metadata": {
        "id": "U73fejko9Y2f",
        "colab_type": "text"
      },
      "source": [
        "# Conclusion"
      ]
    }
  ]
}